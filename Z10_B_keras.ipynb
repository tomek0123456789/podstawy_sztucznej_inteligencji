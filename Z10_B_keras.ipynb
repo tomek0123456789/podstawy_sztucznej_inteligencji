{
 "cells": [
  {
   "cell_type": "code",
   "execution_count": 1,
   "metadata": {},
   "outputs": [
    {
     "name": "stdout",
     "output_type": "stream",
     "text": [
      "2.0.0-rc1\n",
      "2.2.4-tf\n"
     ]
    }
   ],
   "source": [
    "import tensorflow as tf\n",
    "from tensorflow import keras\n",
    "print(tf.__version__)\n",
    "\n",
    "print(keras.__version__)"
   ]
  },
  {
   "cell_type": "code",
   "execution_count": 2,
   "metadata": {},
   "outputs": [],
   "source": [
    "import numpy as np\n",
    "import pandas as pd\n",
    "import matplotlib.pyplot as plt\n",
    "import os"
   ]
  },
  {
   "cell_type": "code",
   "execution_count": 3,
   "metadata": {},
   "outputs": [
    {
     "name": "stderr",
     "output_type": "stream",
     "text": [
      "C:\\ProgramData\\Anaconda3\\lib\\site-packages\\ipykernel_launcher.py:6: ParserWarning: Falling back to the 'python' engine because the 'c' engine does not support regex separators (separators > 1 char and different from '\\s+' are interpreted as regex); you can avoid this warning by specifying engine='python'.\n",
      "  \n",
      "C:\\ProgramData\\Anaconda3\\lib\\site-packages\\ipykernel_launcher.py:7: ParserWarning: Falling back to the 'python' engine because the 'c' engine does not support regex separators (separators > 1 char and different from '\\s+' are interpreted as regex); you can avoid this warning by specifying engine='python'.\n",
      "  import sys\n"
     ]
    },
    {
     "data": {
      "text/html": [
       "<div>\n",
       "<style scoped>\n",
       "    .dataframe tbody tr th:only-of-type {\n",
       "        vertical-align: middle;\n",
       "    }\n",
       "\n",
       "    .dataframe tbody tr th {\n",
       "        vertical-align: top;\n",
       "    }\n",
       "\n",
       "    .dataframe thead th {\n",
       "        text-align: right;\n",
       "    }\n",
       "</style>\n",
       "<table border=\"1\" class=\"dataframe\">\n",
       "  <thead>\n",
       "    <tr style=\"text-align: right;\">\n",
       "      <th></th>\n",
       "      <th>age</th>\n",
       "      <th>workclass</th>\n",
       "      <th>fnlwgt</th>\n",
       "      <th>education</th>\n",
       "      <th>education_num</th>\n",
       "      <th>marital_status</th>\n",
       "      <th>occupation</th>\n",
       "      <th>relationship</th>\n",
       "      <th>race</th>\n",
       "      <th>sex</th>\n",
       "      <th>capital_gain</th>\n",
       "      <th>capital_loss</th>\n",
       "      <th>hours_per_week</th>\n",
       "      <th>native_country</th>\n",
       "      <th>wage_class</th>\n",
       "    </tr>\n",
       "  </thead>\n",
       "  <tbody>\n",
       "    <tr>\n",
       "      <th>0</th>\n",
       "      <td>39</td>\n",
       "      <td>State-gov</td>\n",
       "      <td>77516</td>\n",
       "      <td>Bachelors</td>\n",
       "      <td>13</td>\n",
       "      <td>Never-married</td>\n",
       "      <td>Adm-clerical</td>\n",
       "      <td>Not-in-family</td>\n",
       "      <td>White</td>\n",
       "      <td>Male</td>\n",
       "      <td>2174</td>\n",
       "      <td>0</td>\n",
       "      <td>40</td>\n",
       "      <td>United-States</td>\n",
       "      <td>&lt;=50K</td>\n",
       "    </tr>\n",
       "    <tr>\n",
       "      <th>1</th>\n",
       "      <td>50</td>\n",
       "      <td>Self-emp-not-inc</td>\n",
       "      <td>83311</td>\n",
       "      <td>Bachelors</td>\n",
       "      <td>13</td>\n",
       "      <td>Married-civ-spouse</td>\n",
       "      <td>Exec-managerial</td>\n",
       "      <td>Husband</td>\n",
       "      <td>White</td>\n",
       "      <td>Male</td>\n",
       "      <td>0</td>\n",
       "      <td>0</td>\n",
       "      <td>13</td>\n",
       "      <td>United-States</td>\n",
       "      <td>&lt;=50K</td>\n",
       "    </tr>\n",
       "    <tr>\n",
       "      <th>2</th>\n",
       "      <td>38</td>\n",
       "      <td>Private</td>\n",
       "      <td>215646</td>\n",
       "      <td>HS-grad</td>\n",
       "      <td>9</td>\n",
       "      <td>Divorced</td>\n",
       "      <td>Handlers-cleaners</td>\n",
       "      <td>Not-in-family</td>\n",
       "      <td>White</td>\n",
       "      <td>Male</td>\n",
       "      <td>0</td>\n",
       "      <td>0</td>\n",
       "      <td>40</td>\n",
       "      <td>United-States</td>\n",
       "      <td>&lt;=50K</td>\n",
       "    </tr>\n",
       "    <tr>\n",
       "      <th>3</th>\n",
       "      <td>53</td>\n",
       "      <td>Private</td>\n",
       "      <td>234721</td>\n",
       "      <td>11th</td>\n",
       "      <td>7</td>\n",
       "      <td>Married-civ-spouse</td>\n",
       "      <td>Handlers-cleaners</td>\n",
       "      <td>Husband</td>\n",
       "      <td>Black</td>\n",
       "      <td>Male</td>\n",
       "      <td>0</td>\n",
       "      <td>0</td>\n",
       "      <td>40</td>\n",
       "      <td>United-States</td>\n",
       "      <td>&lt;=50K</td>\n",
       "    </tr>\n",
       "    <tr>\n",
       "      <th>4</th>\n",
       "      <td>28</td>\n",
       "      <td>Private</td>\n",
       "      <td>338409</td>\n",
       "      <td>Bachelors</td>\n",
       "      <td>13</td>\n",
       "      <td>Married-civ-spouse</td>\n",
       "      <td>Prof-specialty</td>\n",
       "      <td>Wife</td>\n",
       "      <td>Black</td>\n",
       "      <td>Female</td>\n",
       "      <td>0</td>\n",
       "      <td>0</td>\n",
       "      <td>40</td>\n",
       "      <td>Cuba</td>\n",
       "      <td>&lt;=50K</td>\n",
       "    </tr>\n",
       "  </tbody>\n",
       "</table>\n",
       "</div>"
      ],
      "text/plain": [
       "   age         workclass  fnlwgt  education  education_num  \\\n",
       "0   39         State-gov   77516  Bachelors             13   \n",
       "1   50  Self-emp-not-inc   83311  Bachelors             13   \n",
       "2   38           Private  215646    HS-grad              9   \n",
       "3   53           Private  234721       11th              7   \n",
       "4   28           Private  338409  Bachelors             13   \n",
       "\n",
       "       marital_status         occupation   relationship   race     sex  \\\n",
       "0       Never-married       Adm-clerical  Not-in-family  White    Male   \n",
       "1  Married-civ-spouse    Exec-managerial        Husband  White    Male   \n",
       "2            Divorced  Handlers-cleaners  Not-in-family  White    Male   \n",
       "3  Married-civ-spouse  Handlers-cleaners        Husband  Black    Male   \n",
       "4  Married-civ-spouse     Prof-specialty           Wife  Black  Female   \n",
       "\n",
       "   capital_gain  capital_loss  hours_per_week native_country wage_class  \n",
       "0          2174             0              40  United-States      <=50K  \n",
       "1             0             0              13  United-States      <=50K  \n",
       "2             0             0              40  United-States      <=50K  \n",
       "3             0             0              40  United-States      <=50K  \n",
       "4             0             0              40           Cuba      <=50K  "
      ]
     },
     "execution_count": 3,
     "metadata": {},
     "output_type": "execute_result"
    }
   ],
   "source": [
    "# Wczytaj dane treningowe i testowe\n",
    "import numpy as np\n",
    "import matplotlib.pyplot as plt\n",
    "import pandas as pd\n",
    "\n",
    "train_set = pd.read_csv('Dane/adult/adult.data', sep=\", \",header = None)\n",
    "test_set = pd.read_csv('Dane/adult/adult.test', sep=\", \",skiprows = 1, header = None) # Make sure to skip a row for the test set\n",
    "\n",
    "col_labels = ['age', 'workclass', 'fnlwgt', 'education', 'education_num', 'marital_status', 'occupation', \n",
    "              'relationship', 'race', 'sex', 'capital_gain', 'capital_loss', 'hours_per_week', 'native_country',\n",
    "             'wage_class']\n",
    "train_set.columns = col_labels\n",
    "test_set.columns = col_labels\n",
    "\n",
    "train = train_set.replace('?', np.nan).dropna()\n",
    "test = test_set.replace('?', np.nan).dropna()\n",
    "\n",
    "train_set.head()\n"
   ]
  },
  {
   "cell_type": "markdown",
   "metadata": {},
   "source": [
    "# Zad.\n",
    "Zróbmy szybki preprocesing"
   ]
  },
  {
   "cell_type": "code",
   "execution_count": 4,
   "metadata": {},
   "outputs": [],
   "source": [
    "dataset = pd.concat([train,test])\n",
    "\n",
    "dataset['wage_class'] = dataset.wage_class.replace({'<=50K.': 0,'<=50K':0, '>50K.':1, '>50K':1})\n",
    "\n",
    "dataset.drop([\"fnlwgt\"],axis=1,inplace=True)\n",
    "\n",
    "dataset.drop([\"education\"],axis=1,inplace=True)\n",
    "\n",
    "x = dataset.groupby('native_country')[\"wage_class\"].mean()\n",
    "\n",
    "d = dict(pd.cut(x[x.index!=\" United-States\"],5,labels=range(5)))\n",
    "\n",
    "dataset['native_country'] = dataset['native_country'].replace(d)\n",
    "\n",
    "dataset = pd.get_dummies(dataset,drop_first=True)\n",
    "\n",
    "train = dataset.iloc[:train.shape[0]]\n",
    "test = dataset.iloc[train.shape[0]:]\n",
    "\n",
    "X_train = train.drop(\"wage_class\",axis=1)\n",
    "y_train = train.wage_class\n",
    "\n",
    "X_test = test.drop(\"wage_class\",axis=1)\n",
    "y_test = test.wage_class\n"
   ]
  },
  {
   "cell_type": "code",
   "execution_count": null,
   "metadata": {},
   "outputs": [],
   "source": []
  },
  {
   "cell_type": "code",
   "execution_count": 5,
   "metadata": {},
   "outputs": [
    {
     "name": "stderr",
     "output_type": "stream",
     "text": [
      "Using TensorFlow backend.\n"
     ]
    },
    {
     "name": "stdout",
     "output_type": "stream",
     "text": [
      "Model: \"sequential_1\"\n",
      "_________________________________________________________________\n",
      "Layer (type)                 Output Shape              Param #   \n",
      "=================================================================\n",
      "dense_1 (Dense)              (None, 100)               4200      \n",
      "_________________________________________________________________\n",
      "dense_2 (Dense)              (None, 50)                5050      \n",
      "_________________________________________________________________\n",
      "dense_3 (Dense)              (None, 10)                510       \n",
      "_________________________________________________________________\n",
      "dense_4 (Dense)              (None, 1)                 11        \n",
      "=================================================================\n",
      "Total params: 9,771\n",
      "Trainable params: 9,771\n",
      "Non-trainable params: 0\n",
      "_________________________________________________________________\n"
     ]
    }
   ],
   "source": [
    "from keras.models import Sequential\n",
    "from keras.layers import Dense\n",
    "\n",
    "from keras.callbacks import History\n",
    "\n",
    "history = History()\n",
    "model = Sequential()\n",
    "model.add(Dense(100,activation=\"sigmoid\", input_shape=(X_train.shape[1],)))\n",
    "model.add(Dense(50,activation=\"sigmoid\"))\n",
    "model.add(Dense(10,activation=\"sigmoid\"))\n",
    "model.add(Dense(1,activation=\"sigmoid\"))\n",
    "model.summary()"
   ]
  },
  {
   "cell_type": "code",
   "execution_count": 6,
   "metadata": {},
   "outputs": [
    {
     "name": "stdout",
     "output_type": "stream",
     "text": [
      "WARNING:tensorflow:From C:\\ProgramData\\Anaconda3\\lib\\site-packages\\tensorflow_core\\python\\ops\\nn_impl.py:183: where (from tensorflow.python.ops.array_ops) is deprecated and will be removed in a future version.\n",
      "Instructions for updating:\n",
      "Use tf.where in 2.0, which has the same broadcast rule as np.where\n"
     ]
    }
   ],
   "source": [
    "model.compile(loss=\"binary_crossentropy\", optimizer=\"Adam\", metrics=[\"accuracy\"])"
   ]
  },
  {
   "cell_type": "code",
   "execution_count": 7,
   "metadata": {},
   "outputs": [
    {
     "name": "stdout",
     "output_type": "stream",
     "text": [
      "Train on 30162 samples, validate on 15060 samples\n",
      "Epoch 1/100\n",
      "30162/30162 [==============================] - 2s 72us/step - loss: 0.4524 - accuracy: 0.7868 - val_loss: 0.3855 - val_accuracy: 0.8094\n",
      "Epoch 2/100\n",
      "30162/30162 [==============================] - 2s 60us/step - loss: 0.3831 - accuracy: 0.8114 - val_loss: 0.3737 - val_accuracy: 0.8137\n",
      "Epoch 3/100\n",
      "30162/30162 [==============================] - 2s 56us/step - loss: 0.3699 - accuracy: 0.8185 - val_loss: 0.3747 - val_accuracy: 0.7954\n",
      "Epoch 4/100\n",
      "30162/30162 [==============================] - 2s 62us/step - loss: 0.3722 - accuracy: 0.8130 - val_loss: 0.3664 - val_accuracy: 0.8175\n",
      "Epoch 5/100\n",
      "30162/30162 [==============================] - 2s 57us/step - loss: 0.3720 - accuracy: 0.8134 - val_loss: 0.3814 - val_accuracy: 0.8119\n",
      "Epoch 6/100\n",
      "30162/30162 [==============================] - 2s 66us/step - loss: 0.3751 - accuracy: 0.8101 - val_loss: 0.3698 - val_accuracy: 0.8169\n",
      "Epoch 7/100\n",
      "30162/30162 [==============================] - 2s 56us/step - loss: 0.3727 - accuracy: 0.8129 - val_loss: 0.3669 - val_accuracy: 0.8181\n",
      "Epoch 8/100\n",
      "30162/30162 [==============================] - 2s 57us/step - loss: 0.3702 - accuracy: 0.8114 - val_loss: 0.3702 - val_accuracy: 0.8166\n",
      "Epoch 9/100\n",
      "30162/30162 [==============================] - 2s 58us/step - loss: 0.3692 - accuracy: 0.8157 - val_loss: 0.3656 - val_accuracy: 0.8165\n",
      "Epoch 10/100\n",
      "30162/30162 [==============================] - 2s 62us/step - loss: 0.3685 - accuracy: 0.8144 - val_loss: 0.3734 - val_accuracy: 0.8072\n",
      "Epoch 11/100\n",
      "30162/30162 [==============================] - 2s 58us/step - loss: 0.3667 - accuracy: 0.8157 - val_loss: 0.3664 - val_accuracy: 0.8131\n",
      "Epoch 12/100\n",
      "30162/30162 [==============================] - 2s 61us/step - loss: 0.3666 - accuracy: 0.8146 - val_loss: 0.3630 - val_accuracy: 0.8169\n",
      "Epoch 13/100\n",
      "30162/30162 [==============================] - 2s 65us/step - loss: 0.3651 - accuracy: 0.8156 - val_loss: 0.3674 - val_accuracy: 0.8171\n",
      "Epoch 14/100\n",
      "30162/30162 [==============================] - 2s 56us/step - loss: 0.3667 - accuracy: 0.8129 - val_loss: 0.3775 - val_accuracy: 0.8035\n",
      "Epoch 15/100\n",
      "30162/30162 [==============================] - 2s 72us/step - loss: 0.3669 - accuracy: 0.8145 - val_loss: 0.3738 - val_accuracy: 0.8152\n",
      "Epoch 16/100\n",
      "30162/30162 [==============================] - 2s 67us/step - loss: 0.3666 - accuracy: 0.8138 - val_loss: 0.3790 - val_accuracy: 0.8077\n",
      "Epoch 17/100\n",
      "30162/30162 [==============================] - 2s 56us/step - loss: 0.3679 - accuracy: 0.8143 - val_loss: 0.3869 - val_accuracy: 0.8001\n",
      "Epoch 18/100\n",
      "30162/30162 [==============================] - 2s 61us/step - loss: 0.3693 - accuracy: 0.8129 - val_loss: 0.3671 - val_accuracy: 0.7959\n",
      "Epoch 19/100\n",
      "30162/30162 [==============================] - 2s 64us/step - loss: 0.3666 - accuracy: 0.8141 - val_loss: 0.3677 - val_accuracy: 0.8173\n",
      "Epoch 20/100\n",
      "30162/30162 [==============================] - 2s 61us/step - loss: 0.3657 - accuracy: 0.8157 - val_loss: 0.3666 - val_accuracy: 0.8104\n",
      "Epoch 21/100\n",
      "30162/30162 [==============================] - 2s 63us/step - loss: 0.3650 - accuracy: 0.8152 - val_loss: 0.3658 - val_accuracy: 0.8118\n",
      "Epoch 22/100\n",
      "30162/30162 [==============================] - 2s 57us/step - loss: 0.3656 - accuracy: 0.8144 - val_loss: 0.3627 - val_accuracy: 0.8165\n",
      "Epoch 23/100\n",
      "30162/30162 [==============================] - 2s 55us/step - loss: 0.3636 - accuracy: 0.8167 - val_loss: 0.3680 - val_accuracy: 0.8146\n",
      "Epoch 24/100\n",
      "30162/30162 [==============================] - 2s 59us/step - loss: 0.3640 - accuracy: 0.8143 - val_loss: 0.3624 - val_accuracy: 0.8179\n",
      "Epoch 25/100\n",
      "30162/30162 [==============================] - 2s 58us/step - loss: 0.3646 - accuracy: 0.8161 - val_loss: 0.3633 - val_accuracy: 0.8139\n",
      "Epoch 26/100\n",
      "30162/30162 [==============================] - 2s 58us/step - loss: 0.3629 - accuracy: 0.8155 - val_loss: 0.3674 - val_accuracy: 0.8114\n",
      "Epoch 27/100\n",
      "30162/30162 [==============================] - 2s 55us/step - loss: 0.3632 - accuracy: 0.8172 - val_loss: 0.3645 - val_accuracy: 0.8170\n",
      "Epoch 28/100\n",
      "30162/30162 [==============================] - 2s 58us/step - loss: 0.3610 - accuracy: 0.8181 - val_loss: 0.3645 - val_accuracy: 0.8131\n",
      "Epoch 29/100\n",
      "30162/30162 [==============================] - 2s 59us/step - loss: 0.3657 - accuracy: 0.8176 - val_loss: 0.3630 - val_accuracy: 0.8175\n",
      "Epoch 30/100\n",
      "30162/30162 [==============================] - 2s 53us/step - loss: 0.3626 - accuracy: 0.8161 - val_loss: 0.3702 - val_accuracy: 0.8114\n",
      "Epoch 31/100\n",
      "30162/30162 [==============================] - 2s 60us/step - loss: 0.3640 - accuracy: 0.8157 - val_loss: 0.3665 - val_accuracy: 0.8116\n",
      "Epoch 32/100\n",
      "30162/30162 [==============================] - 2s 72us/step - loss: 0.3629 - accuracy: 0.8166 - val_loss: 0.3626 - val_accuracy: 0.8175\n",
      "Epoch 33/100\n",
      "30162/30162 [==============================] - 2s 63us/step - loss: 0.3638 - accuracy: 0.8175 - val_loss: 0.3690 - val_accuracy: 0.8134\n",
      "Epoch 34/100\n",
      "30162/30162 [==============================] - 2s 69us/step - loss: 0.3639 - accuracy: 0.8164 - val_loss: 0.3702 - val_accuracy: 0.7950\n",
      "Epoch 35/100\n",
      "30162/30162 [==============================] - 2s 58us/step - loss: 0.3633 - accuracy: 0.8166 - val_loss: 0.3708 - val_accuracy: 0.8155\n",
      "Epoch 36/100\n",
      "30162/30162 [==============================] - 2s 59us/step - loss: 0.3620 - accuracy: 0.8185 - val_loss: 0.3688 - val_accuracy: 0.8155\n",
      "Epoch 37/100\n",
      "30162/30162 [==============================] - 2s 60us/step - loss: 0.3617 - accuracy: 0.8184 - val_loss: 0.3633 - val_accuracy: 0.8151\n",
      "Epoch 38/100\n",
      "30162/30162 [==============================] - 2s 56us/step - loss: 0.3616 - accuracy: 0.8160 - val_loss: 0.3627 - val_accuracy: 0.8168\n",
      "Epoch 39/100\n",
      "30162/30162 [==============================] - 2s 56us/step - loss: 0.3614 - accuracy: 0.8172 - val_loss: 0.3656 - val_accuracy: 0.8187\n",
      "Epoch 40/100\n",
      "30162/30162 [==============================] - 2s 57us/step - loss: 0.3600 - accuracy: 0.8176 - val_loss: 0.3628 - val_accuracy: 0.8173\n",
      "Epoch 41/100\n",
      "30162/30162 [==============================] - 2s 54us/step - loss: 0.3595 - accuracy: 0.8163 - val_loss: 0.3670 - val_accuracy: 0.8120\n",
      "Epoch 42/100\n",
      "30162/30162 [==============================] - 2s 66us/step - loss: 0.3629 - accuracy: 0.8168 - val_loss: 0.3626 - val_accuracy: 0.8181\n",
      "Epoch 43/100\n",
      "30162/30162 [==============================] - 2s 57us/step - loss: 0.3607 - accuracy: 0.8164 - val_loss: 0.3626 - val_accuracy: 0.8181\n",
      "Epoch 44/100\n",
      "30162/30162 [==============================] - 2s 58us/step - loss: 0.3601 - accuracy: 0.8203 - val_loss: 0.3621 - val_accuracy: 0.8185\n",
      "Epoch 45/100\n",
      "30162/30162 [==============================] - 2s 55us/step - loss: 0.3609 - accuracy: 0.8171 - val_loss: 0.3686 - val_accuracy: 0.8179\n",
      "Epoch 46/100\n",
      "30162/30162 [==============================] - 2s 58us/step - loss: 0.3611 - accuracy: 0.8178 - val_loss: 0.3644 - val_accuracy: 0.8177\n",
      "Epoch 47/100\n",
      "30162/30162 [==============================] - 2s 61us/step - loss: 0.3613 - accuracy: 0.8169 - val_loss: 0.3662 - val_accuracy: 0.8181\n",
      "Epoch 48/100\n",
      "30162/30162 [==============================] - 2s 67us/step - loss: 0.3605 - accuracy: 0.8188 - val_loss: 0.3638 - val_accuracy: 0.8193\n",
      "Epoch 49/100\n",
      "30162/30162 [==============================] - 2s 58us/step - loss: 0.3595 - accuracy: 0.8182 - val_loss: 0.3650 - val_accuracy: 0.8159\n",
      "Epoch 50/100\n",
      "30162/30162 [==============================] - 2s 68us/step - loss: 0.3598 - accuracy: 0.8190 - val_loss: 0.3652 - val_accuracy: 0.8162\n",
      "Epoch 51/100\n",
      "30162/30162 [==============================] - 2s 58us/step - loss: 0.3584 - accuracy: 0.8184 - val_loss: 0.3655 - val_accuracy: 0.8162\n",
      "Epoch 52/100\n",
      "30162/30162 [==============================] - 2s 59us/step - loss: 0.3583 - accuracy: 0.8193 - val_loss: 0.3652 - val_accuracy: 0.8117\n",
      "Epoch 53/100\n",
      "30162/30162 [==============================] - 2s 58us/step - loss: 0.3582 - accuracy: 0.8190 - val_loss: 0.3688 - val_accuracy: 0.8118\n",
      "Epoch 54/100\n",
      "30162/30162 [==============================] - 2s 55us/step - loss: 0.3581 - accuracy: 0.8186 - val_loss: 0.3631 - val_accuracy: 0.8172\n",
      "Epoch 55/100\n",
      "30162/30162 [==============================] - 2s 54us/step - loss: 0.3579 - accuracy: 0.8197 - val_loss: 0.3641 - val_accuracy: 0.8150\n"
     ]
    },
    {
     "name": "stdout",
     "output_type": "stream",
     "text": [
      "Epoch 56/100\n",
      "30162/30162 [==============================] - 2s 55us/step - loss: 0.3575 - accuracy: 0.8210 - val_loss: 0.3649 - val_accuracy: 0.8168\n",
      "Epoch 57/100\n",
      "30162/30162 [==============================] - 2s 60us/step - loss: 0.3575 - accuracy: 0.8189 - val_loss: 0.3621 - val_accuracy: 0.8169\n",
      "Epoch 58/100\n",
      "30162/30162 [==============================] - 2s 54us/step - loss: 0.3573 - accuracy: 0.8213 - val_loss: 0.3648 - val_accuracy: 0.8133\n",
      "Epoch 59/100\n",
      "30162/30162 [==============================] - 2s 53us/step - loss: 0.3574 - accuracy: 0.8202 - val_loss: 0.3642 - val_accuracy: 0.8172\n",
      "Epoch 60/100\n",
      "30162/30162 [==============================] - 2s 57us/step - loss: 0.3571 - accuracy: 0.8193 - val_loss: 0.3642 - val_accuracy: 0.8178\n",
      "Epoch 61/100\n",
      "30162/30162 [==============================] - 2s 53us/step - loss: 0.3568 - accuracy: 0.8203 - val_loss: 0.3631 - val_accuracy: 0.8164\n",
      "Epoch 62/100\n",
      "30162/30162 [==============================] - 2s 54us/step - loss: 0.3559 - accuracy: 0.8192 - val_loss: 0.3637 - val_accuracy: 0.8159\n",
      "Epoch 63/100\n",
      "30162/30162 [==============================] - 2s 56us/step - loss: 0.3565 - accuracy: 0.8198 - val_loss: 0.3631 - val_accuracy: 0.8151\n",
      "Epoch 64/100\n",
      "30162/30162 [==============================] - 2s 58us/step - loss: 0.3561 - accuracy: 0.8185 - val_loss: 0.3634 - val_accuracy: 0.8181\n",
      "Epoch 65/100\n",
      "30162/30162 [==============================] - 2s 55us/step - loss: 0.3556 - accuracy: 0.8211 - val_loss: 0.3770 - val_accuracy: 0.8158\n",
      "Epoch 66/100\n",
      "30162/30162 [==============================] - 2s 56us/step - loss: 0.3553 - accuracy: 0.8201 - val_loss: 0.3651 - val_accuracy: 0.8179\n",
      "Epoch 67/100\n",
      "30162/30162 [==============================] - 2s 54us/step - loss: 0.3562 - accuracy: 0.8208 - val_loss: 0.3612 - val_accuracy: 0.8191\n",
      "Epoch 68/100\n",
      "30162/30162 [==============================] - 2s 52us/step - loss: 0.3546 - accuracy: 0.8209 - val_loss: 0.3704 - val_accuracy: 0.8139\n",
      "Epoch 69/100\n",
      "30162/30162 [==============================] - 2s 56us/step - loss: 0.3554 - accuracy: 0.8199 - val_loss: 0.3628 - val_accuracy: 0.8170\n",
      "Epoch 70/100\n",
      "30162/30162 [==============================] - 2s 52us/step - loss: 0.3543 - accuracy: 0.8212 - val_loss: 0.3635 - val_accuracy: 0.8195\n",
      "Epoch 71/100\n",
      "30162/30162 [==============================] - 2s 61us/step - loss: 0.3549 - accuracy: 0.8226 - val_loss: 0.3776 - val_accuracy: 0.8126\n",
      "Epoch 72/100\n",
      "30162/30162 [==============================] - 2s 56us/step - loss: 0.3550 - accuracy: 0.8198 - val_loss: 0.3667 - val_accuracy: 0.8173\n",
      "Epoch 73/100\n",
      "30162/30162 [==============================] - 2s 59us/step - loss: 0.3546 - accuracy: 0.8203 - val_loss: 0.3636 - val_accuracy: 0.8191\n",
      "Epoch 74/100\n",
      "30162/30162 [==============================] - 2s 56us/step - loss: 0.3551 - accuracy: 0.8208 - val_loss: 0.3612 - val_accuracy: 0.8181\n",
      "Epoch 75/100\n",
      "30162/30162 [==============================] - 2s 55us/step - loss: 0.3549 - accuracy: 0.8194 - val_loss: 0.3611 - val_accuracy: 0.8200\n",
      "Epoch 76/100\n",
      "30162/30162 [==============================] - 2s 57us/step - loss: 0.3537 - accuracy: 0.8212 - val_loss: 0.3625 - val_accuracy: 0.8184\n",
      "Epoch 77/100\n",
      "30162/30162 [==============================] - 2s 65us/step - loss: 0.3538 - accuracy: 0.8208 - val_loss: 0.3630 - val_accuracy: 0.8157\n",
      "Epoch 78/100\n",
      "30162/30162 [==============================] - 2s 52us/step - loss: 0.3539 - accuracy: 0.8215 - val_loss: 0.3627 - val_accuracy: 0.8193\n",
      "Epoch 79/100\n",
      "30162/30162 [==============================] - 2s 57us/step - loss: 0.3543 - accuracy: 0.8217 - val_loss: 0.3639 - val_accuracy: 0.8161\n",
      "Epoch 80/100\n",
      "30162/30162 [==============================] - 2s 52us/step - loss: 0.3537 - accuracy: 0.8207 - val_loss: 0.3664 - val_accuracy: 0.8157\n",
      "Epoch 81/100\n",
      "30162/30162 [==============================] - 2s 54us/step - loss: 0.3542 - accuracy: 0.8195 - val_loss: 0.3632 - val_accuracy: 0.8158\n",
      "Epoch 82/100\n",
      "30162/30162 [==============================] - 2s 52us/step - loss: 0.3566 - accuracy: 0.8209 - val_loss: 0.3667 - val_accuracy: 0.8165\n",
      "Epoch 83/100\n",
      "30162/30162 [==============================] - 2s 63us/step - loss: 0.3554 - accuracy: 0.8179 - val_loss: 0.3710 - val_accuracy: 0.7954\n",
      "Epoch 84/100\n",
      "30162/30162 [==============================] - 2s 57us/step - loss: 0.3692 - accuracy: 0.8156 - val_loss: 0.3676 - val_accuracy: 0.8139\n",
      "Epoch 85/100\n",
      "30162/30162 [==============================] - 2s 56us/step - loss: 0.3571 - accuracy: 0.8200 - val_loss: 0.3726 - val_accuracy: 0.7901\n",
      "Epoch 86/100\n",
      "30162/30162 [==============================] - 2s 53us/step - loss: 0.3576 - accuracy: 0.8184 - val_loss: 0.3686 - val_accuracy: 0.8120\n",
      "Epoch 87/100\n",
      "30162/30162 [==============================] - 2s 54us/step - loss: 0.3569 - accuracy: 0.8190 - val_loss: 0.3674 - val_accuracy: 0.8132\n",
      "Epoch 88/100\n",
      "30162/30162 [==============================] - 2s 59us/step - loss: 0.3572 - accuracy: 0.8165 - val_loss: 0.3659 - val_accuracy: 0.8163\n",
      "Epoch 89/100\n",
      "30162/30162 [==============================] - 2s 59us/step - loss: 0.3550 - accuracy: 0.8206 - val_loss: 0.3635 - val_accuracy: 0.8165\n",
      "Epoch 90/100\n",
      "30162/30162 [==============================] - 2s 57us/step - loss: 0.3552 - accuracy: 0.8214 - val_loss: 0.3688 - val_accuracy: 0.8135\n",
      "Epoch 91/100\n",
      "30162/30162 [==============================] - 2s 52us/step - loss: 0.3552 - accuracy: 0.8195 - val_loss: 0.3672 - val_accuracy: 0.8139\n",
      "Epoch 92/100\n",
      "30162/30162 [==============================] - 2s 64us/step - loss: 0.3547 - accuracy: 0.8198 - val_loss: 0.3639 - val_accuracy: 0.8174\n",
      "Epoch 93/100\n",
      "30162/30162 [==============================] - 2s 65us/step - loss: 0.3546 - accuracy: 0.8197 - val_loss: 0.3635 - val_accuracy: 0.8150\n",
      "Epoch 94/100\n",
      "30162/30162 [==============================] - 2s 61us/step - loss: 0.3562 - accuracy: 0.8182 - val_loss: 0.3655 - val_accuracy: 0.8157\n",
      "Epoch 95/100\n",
      "30162/30162 [==============================] - 2s 56us/step - loss: 0.3543 - accuracy: 0.8207 - val_loss: 0.3714 - val_accuracy: 0.8062\n",
      "Epoch 96/100\n",
      "30162/30162 [==============================] - 2s 57us/step - loss: 0.3543 - accuracy: 0.8192 - val_loss: 0.3623 - val_accuracy: 0.8161\n",
      "Epoch 97/100\n",
      "30162/30162 [==============================] - 2s 52us/step - loss: 0.3543 - accuracy: 0.8202 - val_loss: 0.3624 - val_accuracy: 0.8165\n",
      "Epoch 98/100\n",
      "30162/30162 [==============================] - 2s 51us/step - loss: 0.3535 - accuracy: 0.8202 - val_loss: 0.3740 - val_accuracy: 0.8067\n",
      "Epoch 99/100\n",
      "30162/30162 [==============================] - 2s 50us/step - loss: 0.3544 - accuracy: 0.8196 - val_loss: 0.3641 - val_accuracy: 0.8153\n",
      "Epoch 100/100\n",
      "30162/30162 [==============================] - 1s 49us/step - loss: 0.3528 - accuracy: 0.8211 - val_loss: 0.3637 - val_accuracy: 0.8173\n"
     ]
    }
   ],
   "source": [
    "# history = model.fit(X_train, y_train, epochs=30, validation_data=(X_valid, y_valid))\n",
    "history = model.fit(X_train, y_train, validation_data= (X_test, y_test), batch_size=32, epochs=100)"
   ]
  },
  {
   "cell_type": "code",
   "execution_count": null,
   "metadata": {},
   "outputs": [],
   "source": []
  },
  {
   "cell_type": "code",
   "execution_count": 19,
   "metadata": {},
   "outputs": [
    {
     "data": {
      "image/png": "[encoded data removed]",
      "text/plain": [
       "<Figure size 576x360 with 1 Axes>"
      ]
     },
     "metadata": {
      "needs_background": "light"
     },
     "output_type": "display_data"
    }
   ],
   "source": [
    "import pandas as pd\n",
    "\n",
    "pd.DataFrame(history.history).plot(figsize=(8, 5))\n",
    "plt.grid(True)\n",
    "plt.gca().set_ylim(0, 1)\n",
    "plt.show()"
   ]
  },
  {
   "cell_type": "code",
   "execution_count": 20,
   "metadata": {},
   "outputs": [
    {
     "name": "stdout",
     "output_type": "stream",
     "text": [
      "15060/15060 [==============================] - 0s 17us/step\n"
     ]
    },
    {
     "data": {
      "text/plain": [
       "[0.36742677278569336, 0.8164010643959045]"
      ]
     },
     "execution_count": 20,
     "metadata": {},
     "output_type": "execute_result"
    }
   ],
   "source": [
    "model.evaluate(X_test,y_test)"
   ]
  },
  {
   "cell_type": "code",
   "execution_count": 18,
   "metadata": {},
   "outputs": [
    {
     "data": {
      "text/plain": [
       "0.8175298804780876"
      ]
     },
     "execution_count": 18,
     "metadata": {},
     "output_type": "execute_result"
    }
   ],
   "source": [
    "from sklearn import  metrics\n",
    "metrics.accuracy_score(y_true= y_test, y_pred= model.predict_classes(X_test) )"
   ]
  },
  {
   "cell_type": "markdown",
   "metadata": {},
   "source": [
    "# Zad\n",
    "\n",
    "Porównaj powyższy wynik z nauką na danych znormalizowanych."
   ]
  },
  {
   "cell_type": "code",
   "execution_count": 1,
   "metadata": {},
   "outputs": [],
   "source": [
    "from sklearn.preprocessing import StandardScaler\n",
    "\n"
   ]
  },
  {
   "cell_type": "markdown",
   "metadata": {},
   "source": [
    "# Zad. \n",
    "Stwórz wykres porównujący metody. "
   ]
  },
  {
   "cell_type": "code",
   "execution_count": 22,
   "metadata": {},
   "outputs": [
    {
     "data": {
      "image/png": "[encoded data removed]",
      "text/plain": [
       "<Figure size 432x288 with 1 Axes>"
      ]
     },
     "metadata": {
      "needs_background": "light"
     },
     "output_type": "display_data"
    }
   ],
   "source": []
  },
  {
   "cell_type": "code",
   "execution_count": null,
   "metadata": {},
   "outputs": [],
   "source": []
  }
 ],
 "metadata": {
  "kernelspec": {
   "display_name": "Python 3",
   "language": "python",
   "name": "python3"
  },
  "language_info": {
   "codemirror_mode": {
    "name": "ipython",
    "version": 3
   },
   "file_extension": ".py",
   "mimetype": "text/x-python",
   "name": "python",
   "nbconvert_exporter": "python",
   "pygments_lexer": "ipython3",
   "version": "3.7.3"
  }
 },
 "nbformat": 4,
 "nbformat_minor": 4
}
